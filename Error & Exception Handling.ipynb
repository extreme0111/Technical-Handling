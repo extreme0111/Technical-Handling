{
  "cells": [
    {
      "cell_type": "markdown",
      "id": "powerful-atlanta",
      "metadata": {
        "id": "powerful-atlanta"
      },
      "source": [
        "## Error Handling / Exception Handling\n",
        "\n",
        "We need to add extensive error handling to develop maintainable code. There are several types of errors: compile-time error, logical errors, runtime errors.\n",
        "\n",
        "\n",
        "Why need error handling?\n",
        "1. Prevents crashing\n",
        "2. Saves time debugging errors\n",
        "\n",
        "How to handle errors?\n",
        "- catch the error, handle them based on error type\n",
        "\n",
        "### Using `try-except` block\n",
        "\n",
        "If you have a block of code that MAY fail, you can use this block of code.\n",
        "\n",
        "Summary:\n",
        "\n",
        "```\n",
        "try:    \n",
        "    # block of code     \n",
        "    # this may throw an exception    \n",
        "except:\n",
        "    # block of code\n",
        "    # catches any exceptions\n",
        "```\n",
        "\n",
        "\n",
        "**Question: What error(s) could possibly occur when calling the function below?**\n"
      ]
    },
    {
      "cell_type": "code",
      "execution_count": null,
      "id": "proved-canadian",
      "metadata": {
        "id": "proved-canadian"
      },
      "outputs": [],
      "source": [
        "def div():\n",
        "    x = int(input(\"Enter a number: \"))\n",
        "    y = 100 / x\n",
        "    print(\"y: \", y)"
      ]
    },
    {
      "cell_type": "markdown",
      "id": "combined-magnet",
      "metadata": {
        "id": "combined-magnet"
      },
      "source": [
        "Using the `try-except` block to handle exceptions:\n",
        "\n",
        "1. Statement in `try` block is executed\n",
        "2. If `try` block is successful, `except` block is skipped\n",
        "3. If `try` block fails, code in first `except` statement is executed. If the `try` block failed because of the `ValueError`, it will run the code in the `ValueError` except statement.\n",
        "4. If `try` block fails and it is NOT a `ValueError`, next `except` statement is executed. If `try` block failed due to `ZeroDivisionError`, it will run the code inside `ZeroDivisionError` except statement."
      ]
    },
    {
      "cell_type": "code",
      "execution_count": null,
      "id": "republican-object",
      "metadata": {
        "id": "republican-object"
      },
      "outputs": [],
      "source": [
        "try:\n",
        "    div()\n",
        "except ValueError: # not able to convert non-digit to int type\n",
        "    print(\"Error: there was an error\")\n",
        "except ZeroDivisionError:  # integer being divided by zero\n",
        "    print(\"Error: 0 is an invalid number\")\n",
        "except Exception: # any other exception\n",
        "    print(\"Error: another error occurred\")\n"
      ]
    },
    {
      "cell_type": "markdown",
      "id": "moving-assist",
      "metadata": {
        "id": "moving-assist"
      },
      "source": [
        "### Using `try-except..-finally` block\n",
        "\n",
        "`finally` clause will **always execute** after the last task completes — regardless of whether the last task is in the `try` block or `except` block.\n",
        "\n",
        "Summary:\n",
        "```\n",
        "try:    \n",
        "    # block of code     \n",
        "    # this may throw an exception    \n",
        "except:\n",
        "    # block of code\n",
        "    # catches any exceptions\n",
        "finally:    \n",
        "    # block of code    \n",
        "    # this will always be executed\n",
        "    # after the try and any except block\n",
        "```"
      ]
    },
    {
      "cell_type": "code",
      "execution_count": null,
      "id": "recent-summer",
      "metadata": {
        "id": "recent-summer"
      },
      "outputs": [],
      "source": [
        "try:\n",
        "    div()\n",
        "except ValueError:\n",
        "    print(\"Error: there was an error\")\n",
        "except ZeroDivisionError:\n",
        "    print(\"Error: 0 is an invalid number\")\n",
        "except Exception:\n",
        "    print(\"Error: another error occurred\")\n",
        "finally:\n",
        "    print(\"Next!\")"
      ]
    },
    {
      "cell_type": "markdown",
      "id": "painful-dialogue",
      "metadata": {
        "id": "painful-dialogue"
      },
      "source": [
        "### Do not let the errors go undetected.\n",
        "\n",
        "We should not simple ignore errors. It shows there is a fundamental problem with your code if you cannot handle it.\n",
        "\n",
        "But you can swallow the errors if you know how to handle them.\n"
      ]
    },
    {
      "cell_type": "code",
      "execution_count": null,
      "id": "foreign-festival",
      "metadata": {
        "id": "foreign-festival"
      },
      "outputs": [],
      "source": [
        "try:\n",
        "    y = 100 / x\n",
        "except ZeroDivisionError:\n",
        "    pass # ignoring the error"
      ]
    },
    {
      "cell_type": "markdown",
      "id": "friendly-waterproof",
      "metadata": {
        "id": "friendly-waterproof"
      },
      "source": [
        "## Raising Exceptions\n",
        "\n",
        "You can raise your own exceptions (i.e. cause your own exceptions) by using the `raise` keyword.\n",
        "\n",
        "Example 1: Stop the program if x is lower than 10"
      ]
    },
    {
      "cell_type": "code",
      "execution_count": null,
      "id": "composite-pointer",
      "metadata": {
        "id": "composite-pointer"
      },
      "outputs": [],
      "source": [
        "x = -1\n",
        "\n",
        "if x < 10:\n",
        "  raise Exception(\"Sorry, no numbers below ten\")"
      ]
    },
    {
      "cell_type": "markdown",
      "id": "undefined-spider",
      "metadata": {
        "id": "undefined-spider"
      },
      "source": [
        "Example 2: Raise a TypeError if x is not an integer"
      ]
    },
    {
      "cell_type": "code",
      "execution_count": null,
      "id": "passive-johns",
      "metadata": {
        "id": "passive-johns"
      },
      "outputs": [],
      "source": [
        "x = \"hello\"\n",
        "\n",
        "if not type(x) is int:\n",
        "  raise TypeError(\"Only integers are allowed\")"
      ]
    },
    {
      "cell_type": "markdown",
      "id": "irish-thomson",
      "metadata": {
        "id": "irish-thomson"
      },
      "source": [
        "Practise:\n",
        "\n",
        "Raise a `TypeError` if x is not a string."
      ]
    },
    {
      "cell_type": "code",
      "execution_count": null,
      "id": "covered-beverage",
      "metadata": {
        "id": "covered-beverage"
      },
      "outputs": [],
      "source": []
    },
    {
      "cell_type": "markdown",
      "id": "automated-relevance",
      "metadata": {
        "id": "automated-relevance"
      },
      "source": [
        "You might want to re-raise an exception to abort a script. For example, if we can’t figure out what kind of error is causing the exception, we might want to re-raise it, so that we can debug"
      ]
    },
    {
      "cell_type": "code",
      "execution_count": null,
      "id": "intense-intro",
      "metadata": {
        "id": "intense-intro"
      },
      "outputs": [],
      "source": [
        "try:\n",
        "    x = 0\n",
        "    y = 100 / x\n",
        "except ValueError:\n",
        "    print(\"Error: there was an error\")\n",
        "except Exception:\n",
        "    print(\"Some other error occurred\")\n",
        "    raise"
      ]
    },
    {
      "cell_type": "markdown",
      "id": "stuck-albania",
      "metadata": {
        "id": "stuck-albania"
      },
      "source": [
        "## Assertions\n",
        "\n",
        "Assertions evaluate an expression to `true` or `false`. If the expression is `false`, python will raise an `AssertionError` exception.\n",
        "\n",
        "We use it to help test our own code.\n",
        "\n",
        "Example: `assert x > 5, \"Error occurred\"`"
      ]
    },
    {
      "cell_type": "code",
      "execution_count": null,
      "id": "committed-relations",
      "metadata": {
        "id": "committed-relations"
      },
      "outputs": [],
      "source": [
        "a = 100\n",
        "assert a < 10, \"error! something's up\""
      ]
    },
    {
      "cell_type": "markdown",
      "id": "animated-african",
      "metadata": {
        "id": "animated-african"
      },
      "source": [
        "## Assertion vs Exception\n",
        "\n",
        "It depends, case-by-case. Assertions are quick to use but it could crash the program if a user runs into it. One good way it to have assertions and then `try-except` blocks to catch `AssertionErrors`."
      ]
    },
    {
      "cell_type": "code",
      "execution_count": null,
      "id": "seventh-norfolk",
      "metadata": {
        "id": "seventh-norfolk"
      },
      "outputs": [],
      "source": [
        "try:\n",
        "    a = 100\n",
        "    b = \"hello\"\n",
        "    assert a == b\n",
        "except AssertionError:\n",
        "        print (\"Assertion Exception Raised\")\n",
        "else:\n",
        "    print (\"Success!\")"
      ]
    },
    {
      "cell_type": "markdown",
      "id": "stupid-farmer",
      "metadata": {
        "id": "stupid-farmer"
      },
      "source": [
        "### Some practice\n",
        "\n",
        "Try to handle the errors using `try-except`"
      ]
    },
    {
      "cell_type": "code",
      "execution_count": 1,
      "id": "bibliographic-grenada",
      "metadata": {
        "colab": {
          "base_uri": "https://localhost:8080/",
          "height": 106
        },
        "id": "bibliographic-grenada",
        "outputId": "5b252c42-9f6c-4fb0-f940-ff537c513aed"
      },
      "outputs": [
        {
          "output_type": "error",
          "ename": "SyntaxError",
          "evalue": "invalid syntax (<ipython-input-1-306d44135330>, line 4)",
          "traceback": [
            "\u001b[0;36m  File \u001b[0;32m\"<ipython-input-1-306d44135330>\"\u001b[0;36m, line \u001b[0;32m4\u001b[0m\n\u001b[0;31m    c = a b\u001b[0m\n\u001b[0m          ^\u001b[0m\n\u001b[0;31mSyntaxError\u001b[0m\u001b[0;31m:\u001b[0m invalid syntax\n"
          ]
        }
      ],
      "source": [
        "try:\n",
        "  a = 8\n",
        "  b = 10\n",
        "  c = a b\n",
        "except SyntaxError:\n",
        "  print('Invalid Syntax')\n"
      ]
    },
    {
      "cell_type": "code",
      "execution_count": null,
      "id": "necessary-literature",
      "metadata": {
        "colab": {
          "base_uri": "https://localhost:8080/"
        },
        "id": "necessary-literature",
        "outputId": "d7a624aa-7b04-4529-c100-20b386466662"
      },
      "outputs": [
        {
          "output_type": "stream",
          "name": "stdout",
          "text": [
            "Maximum Recursion Depth Exceeded :(\n"
          ]
        }
      ],
      "source": [
        "def recursion():\n",
        "    return recursion()\n",
        "\n",
        "try:\n",
        "  recursion()\n",
        "except RecursionError:\n",
        "  print('Maximum Recursion Depth Exceeded :(')\n"
      ]
    },
    {
      "cell_type": "code",
      "execution_count": null,
      "id": "joint-meeting",
      "metadata": {
        "colab": {
          "base_uri": "https://localhost:8080/",
          "height": 132
        },
        "id": "joint-meeting",
        "outputId": "cd0062fd-ec4e-4b12-8c97-8e6275d34576"
      },
      "outputs": [
        {
          "output_type": "error",
          "ename": "IndentationError",
          "evalue": "ignored",
          "traceback": [
            "\u001b[0;36m  File \u001b[0;32m\"<ipython-input-9-2dbc134b2f6a>\"\u001b[0;36m, line \u001b[0;32m5\u001b[0m\n\u001b[0;31m    print(\"hello\")\u001b[0m\n\u001b[0m        ^\u001b[0m\n\u001b[0;31mIndentationError\u001b[0m\u001b[0;31m:\u001b[0m expected an indented block\n"
          ]
        }
      ],
      "source": [
        "try:\n",
        "  for i in range(5):\n",
        "  print(\"hello\")\n",
        "except IndentationError:\n",
        "  print('Expected an indented blocc')"
      ]
    },
    {
      "cell_type": "code",
      "execution_count": null,
      "id": "respiratory-ottawa",
      "metadata": {
        "colab": {
          "base_uri": "https://localhost:8080/"
        },
        "id": "respiratory-ottawa",
        "outputId": "946fbd1a-a153-4113-eebb-17b63c4c0e46"
      },
      "outputs": [
        {
          "output_type": "stream",
          "name": "stdout",
          "text": [
            "int + str = 💥\n"
          ]
        }
      ],
      "source": [
        "try:\n",
        "  a = 2\n",
        "  b = 'DataCamp'\n",
        "  a + b\n",
        "except TypeError:\n",
        "  print('int + str = 💥')"
      ]
    }
  ],
  "metadata": {
    "kernelspec": {
      "display_name": "Python 3",
      "language": "python",
      "name": "python3"
    },
    "language_info": {
      "codemirror_mode": {
        "name": "ipython",
        "version": 3
      },
      "file_extension": ".py",
      "mimetype": "text/x-python",
      "name": "python",
      "nbconvert_exporter": "python",
      "pygments_lexer": "ipython3",
      "version": "3.8.6"
    },
    "colab": {
      "provenance": []
    }
  },
  "nbformat": 4,
  "nbformat_minor": 5
}